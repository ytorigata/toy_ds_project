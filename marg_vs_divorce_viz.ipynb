{
 "cells": [
  {
   "cell_type": "code",
   "execution_count": 1,
   "id": "79a18832-4c97-4882-8989-a2a0ffe95bb3",
   "metadata": {},
   "outputs": [
    {
     "name": "stderr",
     "output_type": "stream",
     "text": [
      "/opt/conda/lib/python3.10/site-packages/altair/utils/core.py:317: FutureWarning: iteritems is deprecated and will be removed in a future version. Use .items instead.\n",
      "  for col_name, dtype in df.dtypes.iteritems():\n"
     ]
    },
    {
     "data": {
      "text/html": [
       "\n",
       "<div id=\"altair-viz-66034cd1e3e9475583861ce99d3ace67\"></div>\n",
       "<script type=\"text/javascript\">\n",
       "  var VEGA_DEBUG = (typeof VEGA_DEBUG == \"undefined\") ? {} : VEGA_DEBUG;\n",
       "  (function(spec, embedOpt){\n",
       "    let outputDiv = document.currentScript.previousElementSibling;\n",
       "    if (outputDiv.id !== \"altair-viz-66034cd1e3e9475583861ce99d3ace67\") {\n",
       "      outputDiv = document.getElementById(\"altair-viz-66034cd1e3e9475583861ce99d3ace67\");\n",
       "    }\n",
       "    const paths = {\n",
       "      \"vega\": \"https://cdn.jsdelivr.net/npm//vega@5?noext\",\n",
       "      \"vega-lib\": \"https://cdn.jsdelivr.net/npm//vega-lib?noext\",\n",
       "      \"vega-lite\": \"https://cdn.jsdelivr.net/npm//vega-lite@4.17.0?noext\",\n",
       "      \"vega-embed\": \"https://cdn.jsdelivr.net/npm//vega-embed@6?noext\",\n",
       "    };\n",
       "\n",
       "    function maybeLoadScript(lib, version) {\n",
       "      var key = `${lib.replace(\"-\", \"\")}_version`;\n",
       "      return (VEGA_DEBUG[key] == version) ?\n",
       "        Promise.resolve(paths[lib]) :\n",
       "        new Promise(function(resolve, reject) {\n",
       "          var s = document.createElement('script');\n",
       "          document.getElementsByTagName(\"head\")[0].appendChild(s);\n",
       "          s.async = true;\n",
       "          s.onload = () => {\n",
       "            VEGA_DEBUG[key] = version;\n",
       "            return resolve(paths[lib]);\n",
       "          };\n",
       "          s.onerror = () => reject(`Error loading script: ${paths[lib]}`);\n",
       "          s.src = paths[lib];\n",
       "        });\n",
       "    }\n",
       "\n",
       "    function showError(err) {\n",
       "      outputDiv.innerHTML = `<div class=\"error\" style=\"color:red;\">${err}</div>`;\n",
       "      throw err;\n",
       "    }\n",
       "\n",
       "    function displayChart(vegaEmbed) {\n",
       "      vegaEmbed(outputDiv, spec, embedOpt)\n",
       "        .catch(err => showError(`Javascript Error: ${err.message}<br>This usually means there's a typo in your chart specification. See the javascript console for the full traceback.`));\n",
       "    }\n",
       "\n",
       "    if(typeof define === \"function\" && define.amd) {\n",
       "      requirejs.config({paths});\n",
       "      require([\"vega-embed\"], displayChart, err => showError(`Error loading script: ${err.message}`));\n",
       "    } else {\n",
       "      maybeLoadScript(\"vega\", \"5\")\n",
       "        .then(() => maybeLoadScript(\"vega-lite\", \"4.17.0\"))\n",
       "        .then(() => maybeLoadScript(\"vega-embed\", \"6\"))\n",
       "        .catch(showError)\n",
       "        .then(() => displayChart(vegaEmbed));\n",
       "    }\n",
       "  })({\"config\": {\"view\": {\"continuousWidth\": 400, \"continuousHeight\": 300}}, \"layer\": [{\"mark\": {\"type\": \"line\", \"color\": \"blue\"}, \"encoding\": {\"x\": {\"field\": \"year\", \"title\": \"Year\", \"type\": \"quantitative\"}, \"y\": {\"field\": \"margarine_consumption\", \"scale\": {\"zero\": false}, \"title\": \"Margarine consumption (lbs per capita)\", \"type\": \"quantitative\"}}, \"title\": \"Divorce rate in Maine correlates with margarine consumption\"}, {\"mark\": {\"type\": \"line\", \"color\": \"red\"}, \"encoding\": {\"x\": {\"field\": \"year\", \"title\": \"Year\", \"type\": \"quantitative\"}, \"y\": {\"field\": \"maine_divorce_rate\", \"scale\": {\"zero\": false}, \"title\": \"Divorce rate in Maine (per 1000)\", \"type\": \"quantitative\"}}, \"title\": \"Divorce rate in Maine correlates with margarine consumption\"}], \"data\": {\"name\": \"data-de09336ee52942bca3822a378ff98ae1\"}, \"$schema\": \"https://vega.github.io/schema/vega-lite/v4.17.0.json\", \"datasets\": {\"data-de09336ee52942bca3822a378ff98ae1\": [{\"margarine_consumption\": 8.2, \"maine_divorce_rate\": 5.0, \"year\": 2000}, {\"margarine_consumption\": 7.0, \"maine_divorce_rate\": 4.7, \"year\": 2001}, {\"margarine_consumption\": 6.5, \"maine_divorce_rate\": 4.6, \"year\": 2002}, {\"margarine_consumption\": 5.3, \"maine_divorce_rate\": 4.4, \"year\": 2003}, {\"margarine_consumption\": 5.2, \"maine_divorce_rate\": 4.3, \"year\": 2004}, {\"margarine_consumption\": 4.0, \"maine_divorce_rate\": 4.1, \"year\": 2005}, {\"margarine_consumption\": 4.6, \"maine_divorce_rate\": 4.2, \"year\": 2006}, {\"margarine_consumption\": 4.5, \"maine_divorce_rate\": 4.2, \"year\": 2007}, {\"margarine_consumption\": 4.2, \"maine_divorce_rate\": 4.2, \"year\": 2008}, {\"margarine_consumption\": 3.7, \"maine_divorce_rate\": 4.1, \"year\": 2009}]}}, {\"mode\": \"vega-lite\"});\n",
       "</script>"
      ],
      "text/plain": [
       "alt.LayerChart(...)"
      ]
     },
     "execution_count": 1,
     "metadata": {},
     "output_type": "execute_result"
    }
   ],
   "source": [
    "import altair as alt\n",
    "import pandas as pd\n",
    "\n",
    "should_have_bought_butter = pd.DataFrame(\n",
    "    {\n",
    "        \"margarine_consumption\": [8.2, 7, 6.5, 5.3, 5.2, 4, 4.6, 4.5, 4.2, 3.7],\n",
    "        \"maine_divorce_rate\": [5, 4.7, 4.6, 4.4, 4.3, 4.1, 4.2, 4.2, 4.2, 4.1],\n",
    "        \"year\": [2000, 2001, 2002, 2003, 2004, 2005, 2006, 2007, 2008, 2009]\n",
    "    }\n",
    ")\n",
    "\n",
    "marg_vs_time = (\n",
    "    alt.Chart(\n",
    "        should_have_bought_butter,\n",
    "        title=\"Divorce rate in Maine correlates with margarine consumption\",\n",
    "    )\n",
    "    .mark_line(color=\"blue\")\n",
    "    .encode(\n",
    "        x=alt.X(\"year\", title=\"Year\"),\n",
    "        y=alt.Y(\n",
    "            \"margarine_consumption\", title=\"Margarine consumption (lbs per capita)\", scale=alt.Scale(zero=False)\n",
    "        ),\n",
    "    )\n",
    ")\n",
    "\n",
    "divorce_rate_vs_time = (\n",
    "    alt.Chart(\n",
    "        should_have_bought_butter,\n",
    "        title=\"Divorce rate in Maine correlates with margarine consumption\",\n",
    "    )\n",
    "    .mark_line(color=\"red\")\n",
    "    .encode(\n",
    "        x=alt.X(\"year\", title=\"Year\"),\n",
    "        y=alt.Y(\n",
    "            \"maine_divorce_rate\", title=\"Divorce rate in Maine (per 1000)\", scale=alt.Scale(zero=False)\n",
    "        ),\n",
    "    )\n",
    ")\n",
    "\n",
    "marg_vs_time + divorce_rate_vs_time"
   ]
  },
  {
   "cell_type": "markdown",
   "id": "371e8596-7c01-4d8a-ab13-018b3f23a354",
   "metadata": {},
   "source": [
    "The chart above shows us correlation is not causation."
   ]
  },
  {
   "cell_type": "code",
   "execution_count": null,
   "id": "aa953462-8698-43c1-a2d3-e737935df37b",
   "metadata": {},
   "outputs": [],
   "source": []
  }
 ],
 "metadata": {
  "kernelspec": {
   "display_name": "Python 3 (ipykernel)",
   "language": "python",
   "name": "python3"
  },
  "language_info": {
   "codemirror_mode": {
    "name": "ipython",
    "version": 3
   },
   "file_extension": ".py",
   "mimetype": "text/x-python",
   "name": "python",
   "nbconvert_exporter": "python",
   "pygments_lexer": "ipython3",
   "version": "3.10.8"
  }
 },
 "nbformat": 4,
 "nbformat_minor": 5
}
